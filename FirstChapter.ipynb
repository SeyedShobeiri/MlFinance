{
 "cells": [
  {
   "cell_type": "markdown",
   "metadata": {},
   "source": [
    "# Chapter 1"
   ]
  },
  {
   "cell_type": "markdown",
   "metadata": {},
   "source": [
    "## Notes"
   ]
  },
  {
   "cell_type": "markdown",
   "metadata": {},
   "source": [
    "* In the presence of $\\textit{p}$ features there may be up to $2^p - p - 1$ multiplicative interaction effects.\n",
    "* In supervised learning, we are given labeled data, i.e. pairs $(x_1, y_1), . . . , (x_n, y_n), x_1, . . . , x_n \\in \\textbf{X}, y_1, . . . , y_n \\in \\textbf{Y}$ , and the goal is to learn the relationship between $\\textbf{X}$ and $\\textbf{Y}$. Supervised machine learning uses a parameterized model $g(X|θ)$ over independent variables $X$, to predict the continuous or categorical output $Y$. The model is parameterized by one or more free parameters θ which are fitted to data. There are two different classes of supervised learning models, discriminative and generative.\n",
    "* Each observation $x_i$ is referred to as a feature vector and $y_i$ is the label or response.\n",
    "* In unsupervised learning, we are given unlabeled data, $x_1, x_2, . . . , x_n$ and our goal is to retrieve exploratory information about the data, perhaps grouping similar observations or capturing some hidden patterns.\n",
    "* The third type of machine learning paradigm is reinforcement learning and is an algorithmic approach for enforcing Bellman optimality of a Markov Decision Process—defining a set of states and actions in response to a changing regime so as to maximize some notion of cumulative reward.\n",
    "* There are two different classes of supervised learning models, discriminative\n",
    "and generative. A discriminative model learns the decision boundary between\n",
    "the classes and implicitly learns the distribution of the output conditional on the\n",
    "input. A generative model explicitly learns the joint distribution of the input and\n",
    "output. An example of the former is a neural network or a decision tree and a\n",
    "restricted Boltzmann machine (RBM) is an example of the latter.\n",
    "* The model is referred to as non-parametric if the parameter space is infinite dimensional and parametric if the parameter space is finite dimensional.\n",
    "* Model selection in machine learning is based on a quantity known as **entropy**. Entropy represents the amount of information associated with each event.\n",
    "* Shannon entropy is defined as: $$ H(X) = \\sum_{x}p_x log(p_x)$$\n",
    "* Cross entropy is defined as: $$ H(f,g) = -\\mathbf{E}_f[log(g)] = \\sum_{y \\in Y} f(y)log(g(y|\\theta)) \\geq H(f) $$\n",
    "* Neural networks represent the non-linear map $F(X)$ over a high-dimensional input\n",
    "space using hierarchical layers of abstractions. The activation functions are essential for the network to\n",
    "approximate non-linear functions. For example, if there is one hidden layer and σ(1)\n",
    "is the identify function, then\n",
    "$$\\hat{Y}(X) = W^{(2)}(W^{(1)}X + b^{(1)}) + b^{(2)} = W^{(2)}W^{(1)}X + W^{(2)}b^{(1)} + b^{(2)} = W`X + b`$$\n",
    "* Machine learning and statistical methods can be further characterized by whether\n",
    "they are parametric or non-parametric. Parametric models assume some finite\n",
    "set of parameters and attempt to model the response as a function of the input\n",
    "variables and the parameters.\n",
    "* Within probabilistic modeling, a particular niche is occupied by the so-called\n",
    "state-space models. In these models one assumes the existence of a certain\n",
    "unobserved, latent, process, whose evolution drives a certain observable process.\n",
    "The evolution of the latent process and the dependence of the observable process on\n",
    "the latent process may be given in stochastic, probabilistic terms, which places the\n",
    "state-space models within the realm of probabilistic modeling. deterministic model may produce\n",
    "a probabilistic output, for example, a logistic regression gives the probability\n",
    "that the response is positive given the input variables."
   ]
  },
  {
   "cell_type": "markdown",
   "metadata": {},
   "source": [
    "![](first.png)"
   ]
  },
  {
   "cell_type": "markdown",
   "metadata": {},
   "source": [
    "regularized regression without use of parametric assumptions on the error\n",
    "distribution is an example of machine learning. Unregularized regression with, say,\n",
    "Gaussian error is not a machine learning technique."
   ]
  },
  {
   "cell_type": "markdown",
   "metadata": {},
   "source": [
    "Supervised machine learning\n",
    "1. is an algorithmic approach to statistical inference which, crucially, does not\n",
    "depend on a data generation process;\n",
    "2. estimates a parameterized map between inputs and outputs, with the functional\n",
    "form defined by the methodology such as a neural network or a random forest;\n",
    "3. automates model selection, using regularization and ensemble averaging techniques\n",
    "to iterate through possible models and arrive at a model with the best\n",
    "out-of-sample performance; and\n",
    "4. is often well suited to large sample sizes of high-dimensional non-linear covariates."
   ]
  },
  {
   "cell_type": "markdown",
   "metadata": {},
   "source": [
    "The emphasis on out-of-sample performance, automated model selection, and\n",
    "absence of a pre-determined parametric data generation process is really the key\n",
    "to machine learning being a more robust approach than many parametric, financial\n",
    "econometrics techniques in use today."
   ]
  },
  {
   "cell_type": "code",
   "execution_count": null,
   "metadata": {},
   "outputs": [],
   "source": []
  }
 ],
 "metadata": {
  "kernelspec": {
   "display_name": "Python 3",
   "language": "python",
   "name": "python3"
  },
  "language_info": {
   "codemirror_mode": {
    "name": "ipython",
    "version": 3
   },
   "file_extension": ".py",
   "mimetype": "text/x-python",
   "name": "python",
   "nbconvert_exporter": "python",
   "pygments_lexer": "ipython3",
   "version": "3.8.3"
  }
 },
 "nbformat": 4,
 "nbformat_minor": 4
}
