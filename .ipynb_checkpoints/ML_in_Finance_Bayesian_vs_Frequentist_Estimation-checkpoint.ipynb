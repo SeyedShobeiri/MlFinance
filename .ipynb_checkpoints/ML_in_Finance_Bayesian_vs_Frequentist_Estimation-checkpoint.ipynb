{
 "cells": [
  {
   "cell_type": "raw",
   "metadata": {},
   "source": [
    "# ML_in_Finance-Bayesian_vs_Frequentist_Estimation\n",
    "# Version: 1.0 (28.4.2020)\n",
    "# License: MIT\n",
    "# Email: paul@thalesians.co.uk and matthew.dixon@iit.edu\n",
    "# Notes: tested on Mac OS X running Python 3.6.9 with the following packages:\n",
    "# scipy=1.4,1, numpy=1.18.1, matplotlib=3.1.3, pandas=1.0.3\n",
    "# Citation: Please cite the following reference if this notebook is used for research purposes:\n",
    "# Dixon M.F., Halperin I. and P. Bilokon, Machine Learning in Finance: From Theory to Practice, Springer Graduate Textbook Series, 2020."
   ]
  },
  {
   "cell_type": "markdown",
   "metadata": {},
   "source": [
    "# Overview\n",
    "The purpose of this notebook is to illustrate the difference between Frequentist and Bayesian estimation under Bernoulli trials. Please refer to Sections 3 and 4 of Chapter 2."
   ]
  },
  {
   "cell_type": "code",
   "execution_count": 2,
   "metadata": {},
   "outputs": [],
   "source": [
    "%matplotlib inline"
   ]
  },
  {
   "cell_type": "code",
   "execution_count": 3,
   "metadata": {},
   "outputs": [],
   "source": [
    "import numpy as np\n",
    "import scipy.stats\n",
    "import matplotlib.pyplot as plt\n",
    "import pandas as pd"
   ]
  },
  {
   "cell_type": "markdown",
   "metadata": {},
   "source": [
    "## Frequentist versus Bayesian estimation"
   ]
  },
  {
   "cell_type": "markdown",
   "metadata": {},
   "source": [
    "### A random experiment: a single coin toss"
   ]
  },
  {
   "cell_type": "markdown",
   "metadata": {},
   "source": [
    "Consider an experiment consisting in a single coin flip. We set the random variable $X$ to 0 if tails come up and 1 if heads come up. Then the probability density of $X$ is given by\n",
    "$$p(x \\, | \\, \\theta) = \\theta^x (1 - \\theta)^{1 - x},$$\n",
    "where $0 \\leq \\theta \\leq 1$ is the probability of heads showing up."
   ]
  },
  {
   "cell_type": "markdown",
   "metadata": {},
   "source": [
    "We view $p$ as a function of $x$, but parameterised by the given parameter $\\theta$, hence the notation, $p(x \\,|\\, \\theta)$."
   ]
  },
  {
   "cell_type": "markdown",
   "metadata": {},
   "source": [
    "You will recognise $X$ as a **Bernoulli random variable**."
   ]
  },
  {
   "cell_type": "markdown",
   "metadata": {},
   "source": [
    "### A random experiment: multiple independent coin tosses"
   ]
  },
  {
   "cell_type": "markdown",
   "metadata": {},
   "source": [
    "Generalising somewhat, suppose that we perform $n$ such independent experiments (tosses) on the same coin."
   ]
  },
  {
   "cell_type": "markdown",
   "metadata": {},
   "source": [
    "Now,\n",
    "$$\\mathbf{X} = \\begin{pmatrix} X_1 \\\\ X_2 \\\\ \\vdots \\\\ X_n \\end{pmatrix} \\in \\mathbb{R}^n,$$\n",
    "where, for $1 \\leq i \\leq n$, $X_i$ is the result of the $i$th toss."
   ]
  },
  {
   "cell_type": "markdown",
   "metadata": {},
   "source": [
    "What is the probability density of $\\mathbf{X}$?"
   ]
  },
  {
   "cell_type": "markdown",
   "metadata": {},
   "source": [
    "Since the coin tosses are independent, the probability density of $\\mathbf{X}$, i.e. the joint probability density of $X_1, X_2, \\ldots, X_n$, is given by the product rule\n",
    "$$p(\\mathbf{x} \\,|\\, \\theta) = p(x_1, x_2, \\ldots, x_n \\,|\\, \\theta) = \\prod_{i=1}^n \\theta^{x_i} (1 - \\theta)^{1 - x_i} = \\theta^{\\sum x_i} (1 - \\theta)^{n - \\sum x_i}.$$"
   ]
  },
  {
   "cell_type": "markdown",
   "metadata": {},
   "source": [
    "### Statistical inference"
   ]
  },
  {
   "cell_type": "markdown",
   "metadata": {},
   "source": [
    "Now suppose that we have actually observed ten coin tosses. On seven of them heads have come up, on the remaining three, tails. For example, we could have something like\n",
    "$$x_1 = 1, x_2 = 0, x_3 = 1, x_4 = 1, x_5 = 1, x_6 = 0, x_7 = 1, x_8 = 0, x_9 = 1, x_{10} = 1,$$\n",
    "although we shall see that the actual order in which heads and tails came up is unimportant. What really matters is that $n = 10$ and $\\sum_{i = 1}^n x_i = 7$.\n",
    "\n",
    "How can we use this information to **infer** or **estimate** the parameter $\\theta$?"
   ]
  },
  {
   "cell_type": "markdown",
   "metadata": {},
   "source": [
    "### Frequentist estimation"
   ]
  },
  {
   "cell_type": "markdown",
   "metadata": {},
   "source": [
    "#### Frequentist estimation: maximum likelihood"
   ]
  },
  {
   "cell_type": "markdown",
   "metadata": {},
   "source": [
    "Both the frequentists and Bayesians regard the density $p(\\mathbf{x} \\,|\\, \\theta)$ as **likelihood**. Bayesians stick with this notation, whereas frequentists reinterpret $p(\\mathbf{x} \\,|\\, \\theta)$, which is a function of $\\mathbf{x}$ (given the parameters $\\mathbf{\\theta}$: in our case, there is a single parameter, so $\\theta$ is univariate, but this doesn't have to be the case) as a function of $\\theta$ (given the specific sample $\\mathbf{x}$), and write\n",
    "$$\\mathcal{L}(\\theta) := \\mathcal{L}(\\theta \\,|\\, \\mathbf{x}) := p(\\mathbf{x} \\,|\\, \\theta).$$\n",
    "Notice that we have merely reinterpreted this probability density, whereas its functional form remains the same, in our case:\n",
    "$$\\mathcal{L}(\\theta) = \\theta^{\\sum x_i} (1 - \\theta)^{n - \\sum x_i}.$$"
   ]
  },
  {
   "cell_type": "markdown",
   "metadata": {},
   "source": [
    "Likelihood is one of the key ideas of the frequentist school. It was introduced by one of its founding fathers, Sir Ronald Aylmer Fisher:\n",
    "\n",
    " **\"*What has now appeared is that the mathematical concept of probability is ... inadequate to express our mental confidence or [lack of confidence] in making ... inferences, and that the mathematical quantity which usually appears to be appropriate for measuring our order of preference among different possible populations does not in fact obey the laws of probability. To distinguish it from probability, I have used the term \"likelihood\" to designate this quantity...*\"** &mdash; R.A. Fisher, *Statistical Methods for Research Workers*."
   ]
  },
  {
   "cell_type": "markdown",
   "metadata": {},
   "source": [
    "It is generally more convenient to work with the log of likelihood &mdash; the **log-likelihood**. Since $\\ln$ is a monotonically increasing function of its argument, the same values of $\\theta$ maximise the log-likelihood as the ones that maximise the likelihood.\n",
    "$$\\ln \\mathcal{L}(\\theta) = \\ln \\left\\{ \\theta^{\\sum x_i} (1 - \\theta)^{n - \\sum x_i} \\right\\} = \\left(\\sum x_i \\right) \\ln \\theta + \\left(n - \\sum x_i\\right) \\ln(1 - \\theta).$$"
   ]
  },
  {
   "cell_type": "markdown",
   "metadata": {},
   "source": [
    "How do we find the value of $\\theta$ that maximises this expression? As in school calculus, we differentiate with respect to theta and solve for $\\theta$ that sets the (partial) derivative to zero."
   ]
  },
  {
   "cell_type": "markdown",
   "metadata": {},
   "source": [
    "$$\\frac{\\partial}{\\partial \\theta} \\ln \\mathcal{L}(\\theta) = \\frac{\\sum x_i}{\\theta} + \\frac{n - \\sum x_i}{\\theta - 1}.$$"
   ]
  },
  {
   "cell_type": "markdown",
   "metadata": {},
   "source": [
    "Equating this to zero and solving for $\\theta$, we obtain the **maximum likelihood estimate** for $\\theta$:\n",
    "$$\\hat{\\theta}_{\\text{ML}} = \\frac{\\sum x_i}{n}.$$"
   ]
  },
  {
   "cell_type": "markdown",
   "metadata": {},
   "source": [
    "To confirm that this value does indeed *maximise* the log-likelihood, we take the second derivative with respect to $\\theta$,"
   ]
  },
  {
   "cell_type": "markdown",
   "metadata": {},
   "source": [
    "$$\\frac{\\partial^2}{\\partial \\theta^2} \\ln \\mathcal{L}(\\theta) = -\\frac{\\sum x_i}{\\theta^2} - \\frac{n - \\sum x_i}{(\\theta - 1)^2} < 0.$$"
   ]
  },
  {
   "cell_type": "markdown",
   "metadata": {},
   "source": [
    "Since this quantity is strictly negative for all $0 \\leq \\theta \\leq 1$, it is negative at $\\hat{\\theta}_{\\text{ML}}$, and we do indeed have a maximum."
   ]
  },
  {
   "cell_type": "markdown",
   "metadata": {},
   "source": [
    "Note that $\\hat{\\theta}_{\\text{ML}}$ depends only on the sum of the $x_i$s, we can answer our question: if in a sequence of 10 coin tosses exactly seven heads come up, then\n",
    "$$\\hat{\\theta}_{\\text{ML}} = \\frac{\\sum x_i}{n} = \\frac{7}{10} = 0.7.$$"
   ]
  },
  {
   "cell_type": "markdown",
   "metadata": {},
   "source": [
    "Note that we end up with a *single* value (a single \"point\") as our estimate, 0.7, in this sense we are doing **point estimation**. When we apply a Bayesian approach to the same problem, we shall see that the Bayesian estimate is a probability distribution, rather than a single point."
   ]
  },
  {
   "cell_type": "markdown",
   "metadata": {},
   "source": [
    "We have done quite a lot of mathematical work, but the answer is intuitively obvious. If we toss a coin ten times, and out of those ten times it lands with heads up, it is natural to estimate the probability of getting heads as 0.7. It's encouraging that the result of our maths agrees with our intuition and common sense."
   ]
  },
  {
   "cell_type": "markdown",
   "metadata": {},
   "source": [
    "#### Assessing the quality of our estimator: bias and variance"
   ]
  },
  {
   "cell_type": "markdown",
   "metadata": {},
   "source": [
    "When we obtained our maximum likelihood estimate, we plugged in a specific number for $\\sum x_i$, 7, in this sense the estimator is an ordinary function.\n",
    "\n",
    "However, we could also view it as a function of the *random* sample,\n",
    "$$\\hat{\\theta}_{\\text{ML}} = \\frac{\\sum X_i}{n} = \\frac{7}{10} = 0.7,$$\n",
    "each $X_i$ being a random variable. A function of random variables is itself a random variable, so we can compute its expectation and variance."
   ]
  },
  {
   "cell_type": "markdown",
   "metadata": {},
   "source": [
    "In particular, an expectation of the **error**\n",
    "$$\\mathbf{e} = \\hat{\\mathbf{\\theta}} - \\mathbf{\\theta}$$\n",
    "is known as **bias**,\n",
    "$$\\text{bias}(\\hat{\\mathbf{\\theta}}, \\mathbf{\\theta}) = \\mathbb{E}(\\mathbf{e}) = \\mathbf{E}\\left[\\hat{\\mathbf{\\theta}}, \\mathbf{\\theta}\\right] = \\mathbf{E}\\left[\\hat{\\mathbf{\\theta}}\\right] - \\mathbf{E}\\left[\\mathbf{\\theta}\\right].$$"
   ]
  },
  {
   "cell_type": "markdown",
   "metadata": {},
   "source": [
    "As frequentists, we view the true value of $\\theta$ as a single, deterministic, fixed point, so we take it outside of the expectation:\n",
    "$$\\text{bias}(\\hat{\\mathbf{\\theta}}, \\mathbf{\\theta}) = \\mathbf{E}\\left[\\hat{\\mathbf{\\theta}}\\right] - \\mathbf{\\theta}.$$"
   ]
  },
  {
   "cell_type": "markdown",
   "metadata": {},
   "source": [
    "In our case it is\n",
    "$$\\mathbb{E}[\\hat{\\theta}_{\\text{ML}} - \\theta] = \\mathbb{E}[\\hat{\\theta}_{\\text{ML}}] - \\theta = \\mathbb{E}\\left[\\frac{\\sum X_i}{n}\\right] - \\theta = \\frac{1}{n} \\sum \\mathbb{E}[X_i] - \\theta = \\frac{1}{n} \\cdot n(\\theta \\cdot 1 + (1 - \\theta) \\cdot 0) - \\theta = 0,$$"
   ]
  },
  {
   "cell_type": "markdown",
   "metadata": {},
   "source": [
    "We see that the bias is zero, so this particular maximum likelihood estimator is **unbiased** (otherwise it would be **biased**)."
   ]
  },
  {
   "cell_type": "markdown",
   "metadata": {},
   "source": [
    "What about the variance of this estimator?"
   ]
  },
  {
   "cell_type": "markdown",
   "metadata": {},
   "source": [
    "$$\\text{Var}[\\hat{\\theta}_{\\text{ML}}] = \\text{Var}\\left[\\frac{\\sum X_i}{n}\\right] \\overset{\\text{independence}}{=} \\frac{1}{n^2} \\sum \\text{Var}[X_i] = \\frac{1}{n^2} \\cdot n \\cdot \\theta (1 - \\theta) = \\frac{1}{n}\\theta(1 - \\theta),$$"
   ]
  },
  {
   "cell_type": "markdown",
   "metadata": {},
   "source": [
    "and we see that the variance of the estimator depends on the *true* value of $\\theta$."
   ]
  },
  {
   "cell_type": "markdown",
   "metadata": {},
   "source": [
    "For example, let us sample $n\\hat{\\theta}_{ML} \\sim Ber(\\theta, n)$ under the assumption of a biased coin. If we assume the number of Bernoulli trials is $n=10$ and then increase the sample size, $M$, of $\\hat{\\theta}_{ML}$ we can see that the sample mean of $\\hat{\\theta}_{ML}$ convergences to $\\theta$ (i.e. the sample bias of the estimator is zero) and the sample variance of $\\hat{\\theta}_{ML}$ converges to the true variance of the estimator $\\frac{1}{n}\\theta(1-\\theta)=0.021$. "
   ]
  },
  {
   "cell_type": "code",
   "execution_count": 4,
   "metadata": {},
   "outputs": [
    {
     "name": "stdout",
     "output_type": "stream",
     "text": [
      "       M  sample bias  sample variance  true variance\n",
      "      10     8.00e-02           0.0151         0.0210\n",
      "     100    -3.00e-03           0.0243         0.0210\n",
      "    1000     4.10e-03           0.0215         0.0210\n",
      "   10000    -1.30e-03           0.0210         0.0210\n",
      "  100000     2.74e-04           0.0210         0.0210\n",
      " 1000000    -1.51e-05           0.0210         0.0210\n",
      "10000000     3.73e-05           0.0210         0.0210\n"
     ]
    }
   ],
   "source": [
    "theta = 0.7\n",
    "n = 10 # the length of the Bernoulli sequence\n",
    "print(\"       M  sample bias  sample variance  true variance\")\n",
    "\n",
    "# M is the number of samples of n*theta ~ Ber(theta, n)\n",
    "for M in [10, 100, 1000, 10000, 100000, 1000000, 10000000]: \n",
    "    sample_theta = np.random.binomial(n, theta, size=M) / n\n",
    "    sample_bias_theta = np.mean(sample_theta) - theta\n",
    "    sample_var_theta = np.sum((sample_theta - np.mean(sample_theta))**2) / (M-1)\n",
    "    true_var_theta = theta * (1 - theta) / n\n",
    "    print(\"{:8} {: 12.2e} {:16.4f} {:14.4f}\".format(M, sample_bias_theta, sample_var_theta, true_var_theta))"
   ]
  },
  {
   "cell_type": "markdown",
   "metadata": {},
   "source": [
    "### Bayesian estimation"
   ]
  },
  {
   "cell_type": "markdown",
   "metadata": {},
   "source": [
    "#### Uninformative prior and Laplace's principle of indifference"
   ]
  },
  {
   "cell_type": "markdown",
   "metadata": {},
   "source": [
    "$\\theta$ is a probability, so it is bounded and must belong to the interval $[0, 1]$. We could assume that all values of $\\theta$ in $[0, 1]$ are equally likely. Thus our prior could be that $\\theta$ is uniformly distributed on $[0, 1]$, i.e. $\\theta \\sim \\mathcal{U}(a = 0, b = 1)$."
   ]
  },
  {
   "cell_type": "markdown",
   "metadata": {},
   "source": [
    "This assumption would constitute an application of **Laplace's principle of indifference**, also known as **principle of insufficient reason**: when faced with multiple possibilities, whose probabilities are unknown, assume that the probabilities of all possibilities are equal."
   ]
  },
  {
   "cell_type": "markdown",
   "metadata": {},
   "source": [
    "In practice, this principle should be used with great care, as we are assuming something strictly greater than we know. Saying \"the probabilities of the outcomes are equally likely\" contains strictly more information that \"I don't know what the probabilities of the outcomes are\"."
   ]
  },
  {
   "cell_type": "markdown",
   "metadata": {},
   "source": [
    "If someone tosses a coin and then covers it with her hand, asking you, \"heads or tails?\", it is probably relatively sensible to assume that the two possibilities are equally likely, effectively assuming that the coin is unbiased."
   ]
  },
  {
   "cell_type": "markdown",
   "metadata": {},
   "source": [
    "If someone asks you, \"Is So-and-So a murderer?\", you should think twice before applying Laplace's principle of indifference and saying \"Well, it's a 50% chance that So-and-So is a murderer, it may be safer to lock So-and-So up.\" (Poor So-and-So!)"
   ]
  },
  {
   "cell_type": "markdown",
   "metadata": {},
   "source": [
    "In the context of Bayesian estimation, we may be OK to apply Laplace's principle of indifference. This constitutes what is known as a **uninformative prior**. Our goal is, however, not to stick with a prior, but use the likelihood to proceed to a posterior based on new information."
   ]
  },
  {
   "cell_type": "markdown",
   "metadata": {},
   "source": [
    "The pdf of the uniform distribution, $\\mathcal{U}(a, b)$, is given by\n",
    "$$p(\\theta) = \\frac{1}{b - a}$$\n",
    "if $\\theta \\in [a, b]$ and zero elsewhere. In our case, $a = 0, b = 1$, and so, assuming $\\theta \\in [0, 1]$, our uninformative uniform prior is given by\n",
    "$$p(\\theta) = 1.$$"
   ]
  },
  {
   "cell_type": "markdown",
   "metadata": {},
   "source": [
    "Let us derive the posterior based on this prior assumption. Bayes's theorem tells us that\n",
    "$$\\text{posterior} \\propto \\text{likelihood} \\cdot \\text{prior}.$$ In terms of our pdfs, this is\n",
    "$$p(\\theta \\, | \\, x_{1:n}) \\propto p(x_{1:n} \\, | \\, \\theta) p(\\theta) = \\theta^{\\sum x_i} (1 - \\theta)^{n - \\sum x_i} \\cdot 1.$$"
   ]
  },
  {
   "cell_type": "markdown",
   "metadata": {},
   "source": [
    "Note that $\\propto$ stands for \"proportional to\", so we may be missing a normalising constant. However, by looking at the shape of the resulting pdf (note, the function's argument is now $\\theta$, not $x_i$, so it is not the pdf of a Bernoulli distribution!), we recognise it as the pdf of the distribution\n",
    "$$\\text{Beta}\\left(\\theta \\, | \\, \\sum x_i, n - \\sum x_i\\right),$$\n",
    "and we immediately know that the missing normalising constant factor is\n",
    "$$\\frac{1}{B\\left(\\sum x_i, n - \\sum x_i\\right)} = \\frac{\\Gamma\\left(\\sum x_i\\right) \\Gamma\\left(n - \\sum x_i\\right)}{\\Gamma(n)}.$$"
   ]
  },
  {
   "cell_type": "markdown",
   "metadata": {},
   "source": [
    "Let us now assume that we have tossed the coin ten times and, out of those ten coin tosses, we get heads on seven. Then our posterior distribution becomes\n",
    "$$\\theta \\, | \\, x_{1:n} \\sim \\text{Beta}(\\theta \\, | \\, 7, 3).$$"
   ]
  },
  {
   "cell_type": "markdown",
   "metadata": {},
   "source": [
    "Then, from the properties of this distribution,\n",
    "$$\\mathbb{E}[\\theta \\, | \\, x_{1:n}] = \\frac{\\sum x_i}{\\sum x_i + (n - \\sum x_i)} = \\frac{\\sum x_i}{n} = \\frac{7}{7 + 3} = \\frac{7}{10} = 0.7,$$\n",
    "$$\\text{Var}[\\theta \\, | \\, x_{1:n}] = \\frac{\\left( \\sum x_i \\right) \\left( n - \\sum x_i \\right)}{\\left( \\sum x_i + n - \\sum x_i \\right)^2 \\left( \\sum x_i + n - \\sum x_i + 1 \\right)} = \\frac{n \\sum x_i - \\left( \\sum x_i \\right)^2}{n^2 (n + 1)} = \\frac{7 \\cdot 3}{(7 + 3)^2 (7 + 3 + 1)} = \\frac{21}{1100} \\approx 0.019,$$\n",
    "and the posterior pdf looks as follows"
   ]
  },
  {
   "cell_type": "code",
   "execution_count": 5,
   "metadata": {},
   "outputs": [
    {
     "name": "stdout",
     "output_type": "stream",
     "text": [
      "posterior mean: 0.7\n",
      "posterior s.d.: 0.13816985594155148\n"
     ]
    },
    {
     "data": {
      "image/png": "[encoded data removed]",
      "text/plain": [
       "<Figure size 432x288 with 1 Axes>"
      ]
     },
     "metadata": {
      "needs_background": "light"
     },
     "output_type": "display_data"
    }
   ],
   "source": [
    "alpha, beta = 7, 3\n",
    "\n",
    "posterior_mean, posterior_var, posterior_skew, posterior_kurt = scipy.stats.beta.stats(alpha, beta, moments='mvsk')\n",
    "\n",
    "xs = np.linspace(scipy.stats.beta.ppf(0.01, alpha, beta), scipy.stats.beta.ppf(0.99, alpha, beta), 100)\n",
    "plt.plot(xs, [1 for x in xs], 'b--', lw=5, alpha=.6, label='prior')\n",
    "plt.plot(xs, scipy.stats.beta.pdf(xs, alpha, beta), 'g-', lw=5, alpha=.6, label='posterior')\n",
    "plt.axvline(posterior_mean, label='posterior mean')\n",
    "posterior_sd = np.sqrt(posterior_var)\n",
    "plt.axvline(posterior_mean - posterior_sd, linestyle='--', color='g', label='posterior mean - 1 s.d.')\n",
    "plt.axvline(posterior_mean + posterior_sd, linestyle='--', color='g', label='posterior mean + 1 s.d.')\n",
    "plt.legend(loc='upper left');\n",
    "\n",
    "print('posterior mean:', posterior_mean)\n",
    "print('posterior s.d.:', posterior_sd)"
   ]
  },
  {
   "cell_type": "markdown",
   "metadata": {},
   "source": [
    "Notice that the mean of the posterior, 0.7, matches the frequentist maximum likelihood estimate of $\\theta$, $\\hat{\\theta}_{\\text{ML}}$, and our intuition. Again, it is not unreasonable to assume that the probability of getting heads is 0.7 if we observe heads on seven out of ten coin tosses."
   ]
  },
  {
   "cell_type": "markdown",
   "metadata": {},
   "source": [
    "#### A more informative prior: the Beta distribution"
   ]
  },
  {
   "cell_type": "markdown",
   "metadata": {},
   "source": [
    "Let us question our prior. Is it somewhat *too* uninformative? After all, most coins in the world are (probably!) close to being unbiased."
   ]
  },
  {
   "cell_type": "markdown",
   "metadata": {},
   "source": [
    "We could use a $\\text{Beta}(\\alpha, \\beta)$ prior instead of the Uniform prior. Picking $\\alpha = \\beta = 2$, for example, will give a distribution on $[0, 1]$ centred on $\\frac{1}{2}$, incorporating a prior assumption that the coin is unbiased."
   ]
  },
  {
   "cell_type": "markdown",
   "metadata": {},
   "source": [
    "The pdf of this prior is given by\n",
    "$$p(\\theta) = \\frac{1}{B(\\alpha, \\beta)} \\theta^{\\alpha - 1} (1 - \\theta)^{\\beta - 1}$$\n",
    "on $\\theta \\in [0, 1]$, and so the posterior becomes\n",
    "$$p(\\theta \\, | \\, x_{1:n}) \\propto p(x_{1:n} \\, | \\, \\theta) p(\\theta) = \\theta^{\\sum x_i} (1 - \\theta)^{n - \\sum x_i} \\cdot \\frac{1}{B(\\alpha, \\beta)} \\theta^{\\alpha - 1} (1 - \\theta)^{\\beta - 1} \\propto \\theta^{(\\alpha + \\sum x_i) - 1} (1 - \\theta)^{(\\beta + n - \\sum x_i) - 1},$$\n",
    "which we recognise as a pdf of the distribution\n",
    "$$\\text{Beta}\\left(\\theta \\, | \\, \\alpha + \\sum x_i, \\beta + n - \\sum x_i\\right).$$"
   ]
  },
  {
   "cell_type": "markdown",
   "metadata": {},
   "source": [
    "Why did we pick this prior distribution? Its pdf lives entirely on the compact interval $[0, 1]$, unlike, for example, the normal distribution, which has tails extending to $-\\infty$ and $+\\infty$. With the parameters $\\alpha = \\beta = 2$, it is centered on $\\theta = \\frac{1}{2}$, incorporating the prior assumption that the coin is unbiased."
   ]
  },
  {
   "cell_type": "markdown",
   "metadata": {},
   "source": [
    "If we initially assume a $\\text{Beta}(\\theta \\,|\\, \\alpha = 2, \\beta = 2)$ prior, then the posterior expectation is\n",
    "$$\\mathbb{E}\\left[\\theta \\,|\\, x_{1:n}\\right] = \\frac{\\alpha + \\sum x_i}{\\alpha + \\sum x_i + \\beta + n - \\sum x_i} = \\frac{\\alpha + \\sum x_i}{\\alpha + \\beta + n} = \\frac{2 + 7}{2 + 2 + 10} = \\frac{9}{14} \\approx 0.64.$$"
   ]
  },
  {
   "cell_type": "markdown",
   "metadata": {},
   "source": [
    "Notice that both the prior and posterior belong to the same probability distribution family &mdash; Beta. In Bayesian estimation theory we refer to such prior and posterior as **conjugate distributions** (with respect to this particular likelihood function)."
   ]
  },
  {
   "cell_type": "markdown",
   "metadata": {},
   "source": [
    "Unsurprisingly, since now our prior assumption is that the coin is unbiased, $\\frac{1}{2} < \\mathbb{E}\\left[\\theta \\,|\\, x_{1:n}\\right] < \\frac{7}{10}$."
   ]
  },
  {
   "cell_type": "markdown",
   "metadata": {},
   "source": [
    "Perhaps surprisingly, we are also somewhat more certain about the posterior (its variance is smaller) than when we assumed the uniform prior."
   ]
  },
  {
   "cell_type": "code",
   "execution_count": 6,
   "metadata": {},
   "outputs": [
    {
     "name": "stdout",
     "output_type": "stream",
     "text": [
      "posterior mean: 0.6428571428571429\n",
      "posterior s.d.: 0.12371791482634838\n"
     ]
    },
    {
     "data": {
      "image/png": "[encoded data removed]",
      "text/plain": [
       "<Figure size 432x288 with 1 Axes>"
      ]
     },
     "metadata": {
      "needs_background": "light"
     },
     "output_type": "display_data"
    }
   ],
   "source": [
    "prior_alpha, prior_beta = 2., 2.\n",
    "posterior_alpha, posterior_beta = prior_alpha + 7, prior_beta + 10 - 7\n",
    "\n",
    "posterior_mean, posterior_var, posterior_skew, posterior_kurt = scipy.stats.beta.stats(posterior_alpha, posterior_beta, moments='mvsk')\n",
    "\n",
    "xs = np.linspace(scipy.stats.beta.ppf(0.00001, posterior_alpha, posterior_beta), \n",
    "                 scipy.stats.beta.ppf(0.99999, posterior_alpha, posterior_beta), 100)\n",
    "plt.plot(xs, scipy.stats.beta.pdf(xs, prior_alpha, prior_beta), 'b--', lw=5, alpha=.6, label='prior')\n",
    "plt.plot(xs, scipy.stats.beta.pdf(xs, posterior_alpha, posterior_beta), 'g-', lw=5, alpha=.6, label='posterior')\n",
    "plt.axvline(posterior_mean, label='posterior mean')\n",
    "posterior_sd = np.sqrt(posterior_var)\n",
    "plt.axvline(posterior_mean - posterior_sd, linestyle='--', color='g', label='posterior mean - 1 s.d.')\n",
    "plt.axvline(posterior_mean + posterior_sd, linestyle='--', color='g', label='posterior mean + 1 s.d.')\n",
    "plt.legend(loc='upper left');\n",
    "print('posterior mean:', posterior_mean)\n",
    "print('posterior s.d.:', posterior_sd)"
   ]
  },
  {
   "cell_type": "markdown",
   "metadata": {},
   "source": [
    "Notice that the results of Bayesian estimation are sensitive, to varying degree in each specific case, to the choice of prior distribution."
   ]
  },
  {
   "cell_type": "markdown",
   "metadata": {},
   "source": [
    "After all, according to Stephen Senn's *Statistical basis of public policy &mdash; present remembrance of priors past is not the same as a true prior*, British Medical Journal, 1997, **\"*A Bayesian is one who, vaguely expecting a horse, and catching a glimpse of a donkey, strongly concludes he has seen a mule.*\"**"
   ]
  },
  {
   "cell_type": "markdown",
   "metadata": {},
   "source": [
    "#### Sequential Bayesian updates"
   ]
  },
  {
   "cell_type": "markdown",
   "metadata": {},
   "source": [
    "In the previous section we saw that, starting with the prior\n",
    "$$\\text{Beta}\\left(\\theta \\, | \\, \\alpha, \\beta\\right),$$\n",
    "we end up with another Beta-distributed posterior,\n",
    "$$\\text{Beta}\\left(\\theta \\, | \\, \\alpha + \\sum x_i, \\beta + n - \\sum x_i\\right).$$"
   ]
  },
  {
   "cell_type": "markdown",
   "metadata": {},
   "source": [
    "What would happen if, instead of observing all ten coin tosses at once, we considered each coin toss in turn, obtained our posterior, and used that posterior as a prior for an update based on the information from the next coin toss?"
   ]
  },
  {
   "cell_type": "markdown",
   "metadata": {},
   "source": [
    "The above two formulae give the answer to this question. We start with our initial prior,\n",
    "$$\\text{Beta}\\left(\\theta \\, | \\, \\alpha, \\beta\\right),$$\n",
    "then, substituting $n = 1$ into the second formula, we get\n",
    "$$\\text{Beta}\\left(\\theta \\, | \\, \\alpha + x_1, \\beta + 1 - x_1\\right).$$\n",
    "Using this posterior as a prior before the second coin toss, we obtain the next posterior as\n",
    "$$\\text{Beta}\\left(\\theta \\, | \\, \\alpha + x_1 + x_2, \\beta + 2 - x_1 - x_2\\right).$$"
   ]
  },
  {
   "cell_type": "markdown",
   "metadata": {},
   "source": [
    "Proceeding along these lines, after all ten coin tosses, we end up with\n",
    "$$\\text{Beta}\\left(\\theta \\, | \\, \\alpha + \\sum x_i, \\beta + n - \\sum x_i\\right),$$\n",
    "the same result that we would got if we processed all ten coin tosses as a single \"batch\" as we did the previous section."
   ]
  },
  {
   "cell_type": "markdown",
   "metadata": {},
   "source": [
    "This insight forms the basis for a **sequential** or **iterative** application of Bayes's theorem, sequential Bayesian updates, the foundation of real-time **Bayesian filtering**."
   ]
  }
 ],
 "metadata": {
  "kernelspec": {
   "display_name": "Python 3",
   "language": "python",
   "name": "python3"
  },
  "language_info": {
   "codemirror_mode": {
    "name": "ipython",
    "version": 3
   },
   "file_extension": ".py",
   "mimetype": "text/x-python",
   "name": "python",
   "nbconvert_exporter": "python",
   "pygments_lexer": "ipython3",
   "version": "3.8.3"
  }
 },
 "nbformat": 4,
 "nbformat_minor": 2
}
